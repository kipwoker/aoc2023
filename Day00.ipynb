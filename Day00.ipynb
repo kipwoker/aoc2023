{
 "cells": [
  {
   "cell_type": "code",
   "execution_count": 7,
   "id": "4286b7af-a927-4729-961e-68e9ebbb9f2a",
   "metadata": {},
   "outputs": [],
   "source": [
    "let day = \"00\";"
   ]
  },
  {
   "cell_type": "code",
   "execution_count": 8,
   "id": "186d0e86-51b3-4cf9-88a4-1af786128300",
   "metadata": {},
   "outputs": [],
   "source": [
    "use std::env;\n",
    "use std::fs;\n",
    "use std::fs::File;\n",
    "use std::io::Write;"
   ]
  },
  {
   "cell_type": "code",
   "execution_count": 9,
   "id": "ef5b5183-fe5c-4ed9-9434-0685beff359f",
   "metadata": {},
   "outputs": [],
   "source": [
    "let input_path = format!(\"input_{day}.txt\");\n",
    "let output_path = format!(\"output_{day}.txt\");\n",
    "let input_content = fs::read_to_string(input_path).expect(\"File not found\");"
   ]
  },
  {
   "cell_type": "code",
   "execution_count": 10,
   "id": "1811af9f-b9de-4a06-8a18-5f72aaaff260",
   "metadata": {},
   "outputs": [
    {
     "name": "stdout",
     "output_type": "stream",
     "text": [
      "asdasd\n",
      "12313200\n",
      "+++\n",
      "\n"
     ]
    },
    {
     "data": {
      "text/plain": [
       "()"
      ]
     },
     "execution_count": 10,
     "metadata": {},
     "output_type": "execute_result"
    }
   ],
   "source": [
    "println!(\"{input_content}\")"
   ]
  },
  {
   "cell_type": "code",
   "execution_count": 11,
   "id": "836ab5ac-9545-4813-b306-9f36e907e7d6",
   "metadata": {},
   "outputs": [
    {
     "data": {
      "text/plain": [
       "\"12313200\""
      ]
     },
     "execution_count": 11,
     "metadata": {},
     "output_type": "execute_result"
    }
   ],
   "source": [
    "input_content.split(\"\\r\\n\").nth(1).expect(\"No 1st item\")"
   ]
  },
  {
   "cell_type": "code",
   "execution_count": 12,
   "id": "a1f9c108-749f-4afe-9dce-4c3aedb5e171",
   "metadata": {},
   "outputs": [],
   "source": [
    "let mut output_content = input_content;"
   ]
  },
  {
   "cell_type": "code",
   "execution_count": 13,
   "id": "94f00c56-ac06-4e01-96d4-a78773588d2b",
   "metadata": {},
   "outputs": [
    {
     "name": "stdout",
     "output_type": "stream",
     "text": [
      "asdasd\n",
      "12313200\n",
      "+++\n",
      "\n"
     ]
    }
   ],
   "source": [
    "let mut output_file = File::create(output_path)?;\n",
    "write!(output_file, \"{}\", output_content);\n",
    "println!(\"{output_content}\");"
   ]
  }
 ],
 "metadata": {
  "kernelspec": {
   "display_name": "Rust",
   "language": "rust",
   "name": "rust"
  },
  "language_info": {
   "codemirror_mode": "rust",
   "file_extension": ".rs",
   "mimetype": "text/rust",
   "name": "Rust",
   "pygment_lexer": "rust",
   "version": ""
  }
 },
 "nbformat": 4,
 "nbformat_minor": 5
}
